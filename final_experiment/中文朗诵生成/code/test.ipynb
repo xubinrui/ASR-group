{
 "cells": [
  {
   "cell_type": "code",
   "execution_count": 63,
   "metadata": {},
   "outputs": [
    {
     "name": "stdout",
     "output_type": "stream",
     "text": [
      "Number of files is 1200\n"
     ]
    },
    {
     "data": {
      "text/html": [
       "<div>\n",
       "<style scoped>\n",
       "    .dataframe tbody tr th:only-of-type {\n",
       "        vertical-align: middle;\n",
       "    }\n",
       "\n",
       "    .dataframe tbody tr th {\n",
       "        vertical-align: top;\n",
       "    }\n",
       "\n",
       "    .dataframe thead th {\n",
       "        text-align: right;\n",
       "    }\n",
       "</style>\n",
       "<table border=\"1\" class=\"dataframe\">\n",
       "  <thead>\n",
       "    <tr style=\"text-align: right;\">\n",
       "      <th></th>\n",
       "      <th>Emotion</th>\n",
       "      <th>Person</th>\n",
       "      <th>Path</th>\n",
       "    </tr>\n",
       "  </thead>\n",
       "  <tbody>\n",
       "    <tr>\n",
       "      <th>0</th>\n",
       "      <td>0</td>\n",
       "      <td>liuchanhg</td>\n",
       "      <td>../data/CASIA\\angry\\201-angry-liuchanhg.wav</td>\n",
       "    </tr>\n",
       "    <tr>\n",
       "      <th>1</th>\n",
       "      <td>0</td>\n",
       "      <td>wangzhe</td>\n",
       "      <td>../data/CASIA\\angry\\201-angry-wangzhe.wav</td>\n",
       "    </tr>\n",
       "    <tr>\n",
       "      <th>2</th>\n",
       "      <td>0</td>\n",
       "      <td>zhaoquanyin</td>\n",
       "      <td>../data/CASIA\\angry\\201-angry-zhaoquanyin.wav</td>\n",
       "    </tr>\n",
       "    <tr>\n",
       "      <th>3</th>\n",
       "      <td>0</td>\n",
       "      <td>ZhaoZuoxiang</td>\n",
       "      <td>../data/CASIA\\angry\\201-angry-ZhaoZuoxiang.wav</td>\n",
       "    </tr>\n",
       "    <tr>\n",
       "      <th>4</th>\n",
       "      <td>0</td>\n",
       "      <td>liuchanhg</td>\n",
       "      <td>../data/CASIA\\angry\\202-angry-liuchanhg.wav</td>\n",
       "    </tr>\n",
       "  </tbody>\n",
       "</table>\n",
       "</div>"
      ],
      "text/plain": [
       "   Emotion        Person                                            Path\n",
       "0        0     liuchanhg     ../data/CASIA\\angry\\201-angry-liuchanhg.wav\n",
       "1        0       wangzhe       ../data/CASIA\\angry\\201-angry-wangzhe.wav\n",
       "2        0   zhaoquanyin   ../data/CASIA\\angry\\201-angry-zhaoquanyin.wav\n",
       "3        0  ZhaoZuoxiang  ../data/CASIA\\angry\\201-angry-ZhaoZuoxiang.wav\n",
       "4        0     liuchanhg     ../data/CASIA\\angry\\202-angry-liuchanhg.wav"
      ]
     },
     "execution_count": 63,
     "metadata": {},
     "output_type": "execute_result"
    }
   ],
   "source": [
    "import numpy as np\n",
    "import pandas as pd\n",
    "import os\n",
    "import librosa\n",
    "import librosa.display\n",
    "import IPython\n",
    "from IPython.display import Audio\n",
    "from IPython.display import Image\n",
    "import matplotlib.pyplot as plt\n",
    "from tqdm import tqdm\n",
    "\n",
    "EMOTIONS = {\n",
    "    'angry': 0,\n",
    "    'fear': 1,\n",
    "    'happy': 2,\n",
    "    'neutral': 3,\n",
    "    'sad': 4,\n",
    "    'surprise': 5\n",
    "}  \n",
    "\n",
    "DATA_PATH = '../data/CASIA'  \n",
    "\n",
    "data_list = []\n",
    "\n",
    "for dirname, _, filenames in os.walk(DATA_PATH):\n",
    "    for filename in filenames:\n",
    "        file_path = os.path.join(dirname, filename)\n",
    "        identifiers = filename.split('.')[0].split('-')\n",
    "\n",
    "        emotion = EMOTIONS.get(identifiers[1])  \n",
    "        name = identifiers[2]\n",
    "\n",
    "        # 将提取的信息作为字典添加到data_list列表中\n",
    "        data_list.append({\n",
    "            \"Emotion\": emotion,\n",
    "            \"Person\":name,\n",
    "            \"Path\": file_path\n",
    "            \n",
    "        })\n",
    "\n",
    "data = pd.DataFrame(data_list)\n",
    "\n",
    "\n",
    "print(\"Number of files is {}\".format(len(data)))\n",
    "data.head()\n",
    "\n",
    "\n"
   ]
  },
  {
   "cell_type": "code",
   "execution_count": 64,
   "metadata": {},
   "outputs": [
    {
     "name": "stdout",
     "output_type": "stream",
     "text": [
      "(1200, 144000)\n"
     ]
    }
   ],
   "source": [
    "SAMPLE_RATE = 48000\n",
    "mel_spectrograms = []\n",
    "signals = []\n",
    "for i, file_path in enumerate(data.Path):\n",
    "    audio, sample_rate = librosa.load(file_path, duration=3, offset=0, sr=SAMPLE_RATE)\n",
    "    signal = np.zeros((int(SAMPLE_RATE*3,)))\n",
    "    signal[:len(audio)] = audio\n",
    "    signals.append(signal)\n",
    "signals = np.stack(signals,axis=0)\n",
    "print(signals.shape)"
   ]
  },
  {
   "cell_type": "code",
   "execution_count": 65,
   "metadata": {},
   "outputs": [
    {
     "name": "stdout",
     "output_type": "stream",
     "text": [
      "X_train: (900, 144000), Y_train: (900,)\n",
      "X_val: (300, 144000), Y_val: (300,)\n"
     ]
    }
   ],
   "source": [
    "import numpy as np\n",
    "import os\n",
    "import pandas as pd\n",
    "\n",
    "\n",
    "data_splits = {\n",
    "    'train': {'X': [], 'Y': []},\n",
    "    'val': {'X': [], 'Y': []},\n",
    "}\n",
    "\n",
    "val_ind = np.random.permutation(data[data['Person'] == 'zhaoquanyin'].index)\n",
    "train_ind = np.random.permutation(data[data['Person'] != 'zhaoquanyin'].index)\n",
    "\n",
    "data_splits['train']['X'].extend([signals[i] for i in train_ind])\n",
    "data_splits['train']['Y'].extend([data.loc[i, 'Emotion'] for i in train_ind])\n",
    "data_splits['val']['X'].extend([signals[i] for i in val_ind])\n",
    "data_splits['val']['Y'].extend([data.loc[i, 'Emotion'] for i in val_ind])\n",
    "\n",
    "data_splits['train']['X'] = np.array(data_splits['train']['X'])\n",
    "data_splits['train']['Y'] = np.array(data_splits['train']['Y'])\n",
    "data_splits['val']['X'] = np.array(data_splits['val']['X'])\n",
    "data_splits['val']['Y'] = np.array(data_splits['val']['Y'])\n",
    "\n",
    "print(f'X_train: {data_splits[\"train\"][\"X\"].shape}, Y_train: {data_splits[\"train\"][\"Y\"].shape}')\n",
    "print(f'X_val: {data_splits[\"val\"][\"X\"].shape}, Y_val: {data_splits[\"val\"][\"Y\"].shape}')"
   ]
  },
  {
   "cell_type": "code",
   "execution_count": 54,
   "metadata": {},
   "outputs": [],
   "source": [
    "#用于向信号中添加加性高斯白噪声（AWGN）,模拟现实中的噪声环境，从而增加模型的鲁棒性和泛化能力\n",
    "def addAWGN(signal, num_bits=16, augmented_num=2, snr_low=15, snr_high=30): \n",
    "    signal_len = len(signal)\n",
    "    # 生成高斯白噪声\n",
    "    noise = np.random.normal(size=(augmented_num, signal_len))\n",
    "    # 对信号和噪声进行归一化\n",
    "    norm_constant = 2.0 ** (num_bits - 1)\n",
    "    signal_norm = signal / norm_constant\n",
    "    noise_norm = noise / norm_constant\n",
    "    # 计算信号和噪声的功率\n",
    "    s_power = np.sum(signal_norm ** 2) / signal_len\n",
    "    n_power = np.sum(noise_norm ** 2, axis=1) / signal_len\n",
    "    # 随机选择信噪比：范围在15到30之间的均匀分布\n",
    "    target_snr = np.random.randint(snr_low, snr_high)\n",
    "    # 计算每个噪声的协方差矩阵K\n",
    "    K = np.sqrt((s_power / n_power) * 10 ** (-target_snr / 10))\n",
    "    K = np.ones((signal_len, augmented_num)) * K  \n",
    "    # 生成带有噪声的信号\n",
    "    return signal + K.T * noise"
   ]
  },
  {
   "cell_type": "code",
   "execution_count": 55,
   "metadata": {},
   "outputs": [
    {
     "name": "stdout",
     "output_type": "stream",
     "text": [
      "增强数据...\n"
     ]
    },
    {
     "name": "stderr",
     "output_type": "stream",
     "text": [
      "100%|██████████| 900/900 [00:01<00:00, 762.37it/s]"
     ]
    },
    {
     "name": "stdout",
     "output_type": "stream",
     "text": [
      "X_train: (2700, 308), Y_train: (2700,)\n"
     ]
    },
    {
     "name": "stderr",
     "output_type": "stream",
     "text": [
      "\n"
     ]
    }
   ],
   "source": [
    "# 初始化列表以存储增强数据\n",
    "aug_signals = []\n",
    "aug_labels = []\n",
    "\n",
    "print('增强数据...')\n",
    "# 遍历 X_train 中的每个信号\n",
    "for i in tqdm(range(data_splits[\"train\"][\"X\"].shape[0])):\n",
    "    signal = data_splits[\"train\"][\"X\"][i, :]\n",
    "    augmented_signals = addAWGN(signal)\n",
    "\n",
    "    # 遍历每个增强信号\n",
    "    for j in range(augmented_signals.shape[0]):\n",
    "        aug_labels.append(data.loc[i, \"Emotion\"])  # 添加情绪标签\n",
    "        aug_signals.append(augmented_signals[j, :])  # 添加增强信号\n",
    "        \n",
    "        # 使用 pd.concat() 将原始行的副本附加到列表中\n",
    "        data_row = data.iloc[i].copy()\n",
    "        data_row.name = len(data)  # 确保每个附加行具有唯一索引\n",
    "        data = pd.concat([data, data_row.to_frame().T], ignore_index=True)\n",
    "\n",
    "# 将列表转换为 numpy 数组\n",
    "aug_signals = np.stack(aug_signals, axis=0)\n",
    "\n",
    "# 将原始 X_train 与增强信号连接起来\n",
    "data_splits[\"train\"][\"X\"] = np.concatenate([data_splits[\"train\"][\"X\"], aug_signals], axis=0)\n",
    "\n",
    "# 将 aug_labels 堆叠为 numpy 数组，并与原始 Y_train 连接起来\n",
    "aug_labels = np.array(aug_labels)\n",
    "data_splits[\"train\"][\"Y\"]= np.concatenate([data_splits[\"train\"][\"Y\"], aug_labels])\n",
    "\n",
    "# 打印形状以进行验证\n",
    "print(f'X_train: {data_splits[\"train\"][\"X\"].shape}, Y_train: {data_splits[\"train\"][\"Y\"].shape}')\n"
   ]
  },
  {
   "cell_type": "code",
   "execution_count": 66,
   "metadata": {},
   "outputs": [
    {
     "name": "stdout",
     "output_type": "stream",
     "text": [
      "Calculatin mel spectrograms for train set\n"
     ]
    },
    {
     "name": "stderr",
     "output_type": "stream",
     "text": [
      "100%|██████████| 900/900 [01:37<00:00,  9.21it/s]\n"
     ]
    },
    {
     "name": "stdout",
     "output_type": "stream",
     "text": [
      "(900, 308)\n",
      "Calculatin mel spectrograms for val set\n"
     ]
    },
    {
     "name": "stderr",
     "output_type": "stream",
     "text": [
      "100%|██████████| 300/300 [00:30<00:00,  9.84it/s]"
     ]
    },
    {
     "name": "stdout",
     "output_type": "stream",
     "text": [
      "X_train:(900, 308), Y_train:(900,)\n",
      "X_val:(300, 308), Y_val:(300,)\n"
     ]
    },
    {
     "name": "stderr",
     "output_type": "stream",
     "text": [
      "\n"
     ]
    }
   ],
   "source": [
    "def getMELspectrogram(audio, sample_rate):\n",
    "    mel_spec = librosa.feature.melspectrogram(y=audio,\n",
    "                                              sr=sample_rate\n",
    "                                             )\n",
    "    mel_spec = np.mean(mel_spec.T, axis=0)\n",
    "    return mel_spec\n",
    "\n",
    "def getMFCC(audio, sample_rate):\n",
    "    mfcc = librosa.feature.mfcc(y=audio, \n",
    "                                    sr=sample_rate, \n",
    "                                    n_mfcc=50)\n",
    "    mfccsstd = np.std(mfcc.T, axis=0)\n",
    "    mfccmax = np.max(mfcc.T, axis=0)\n",
    "    mfcc = np.mean(mfcc.T, axis=0)\n",
    "    return mfcc,mfccsstd,mfccmax\n",
    "\n",
    "def get_chroma(audio, sample_rate):\n",
    "    stft = np.abs(librosa.stft(audio))\n",
    "    chroma=librosa.feature.chroma_stft(S=stft, sr=sample_rate)\n",
    "    chroma = np.mean(chroma.T, axis=0)\n",
    "    return chroma\n",
    "\n",
    "def get_contrast(audio, sample_rate):\n",
    "    stft = np.abs(librosa.stft(audio))\n",
    "    contrast = librosa.feature.spectral_contrast(S=stft, sr=sample_rate)\n",
    "    contrast = np.mean(contrast.T, axis=0)\n",
    "    return contrast\n",
    "\n",
    "def co_ext_features(audio, sample_rate):\n",
    "    stft = np.abs(librosa.stft(audio))\n",
    "\n",
    "    flatness = librosa.feature.spectral_flatness(y=audio)\n",
    "    flatness = np.mean(flatness)\n",
    "\n",
    "    #过零率\n",
    "    zero=librosa.feature.zero_crossing_rate(audio)\n",
    "    zero = np.mean(zero)\n",
    "\n",
    "    S, _ = librosa.magphase(stft)\n",
    "    meanMagnitude = np.mean(S)\n",
    "    stdMagnitude = np.std(S)\n",
    "    maxMagnitude = np.max(S)\n",
    "\n",
    "    # 频谱质心\n",
    "    cent = librosa.feature.spectral_centroid(y=audio, sr=sample_rate)\n",
    "    meancent = np.mean(cent / np.sum(cent))\n",
    "    stdcent = np.std(cent / np.sum(cent))\n",
    "    maxcent = np.max(cent / np.sum(cent))\n",
    "\n",
    "    # 均方根能量\n",
    "    rmse = librosa.feature.rms(S=S)[0]\n",
    "    meanrms = np.mean(rmse)\n",
    "    stdrms = np.std(rmse)\n",
    "    maxrms = np.max(rmse)\n",
    "\n",
    "    #组合音频信息\n",
    "    feature=np.array([flatness,zero,meanMagnitude,stdMagnitude,maxMagnitude,meancent,stdcent,maxcent,meanrms,stdrms,maxrms])\n",
    "\n",
    "    return feature\n",
    "\n",
    "def co_multi_feature(audio, sample_rate):\n",
    "    mel_spectrogram = getMELspectrogram(audio, sample_rate=SAMPLE_RATE)\n",
    "    mfcc,mfccsstd,mfccmax=getMFCC(audio, sample_rate)\n",
    "    chroma=get_chroma(audio, sample_rate)\n",
    "    contrast=get_contrast(audio, sample_rate)\n",
    "    extract_feature=co_ext_features(audio, sample_rate)\n",
    "    return np.concatenate((mel_spectrogram,mfcc,mfccsstd,mfccmax,chroma,contrast,extract_feature))\n",
    "\n",
    "\n",
    "train_features =[]\n",
    "print(\"Calculatin mel spectrograms for train set\")\n",
    "for i in tqdm(range(data_splits[\"train\"][\"X\"].shape[0])):\n",
    "    audio=data_splits[\"train\"][\"X\"][i,:]\n",
    "    train_feature=co_multi_feature(audio, sample_rate)\n",
    "    train_features.append(train_feature)\n",
    "    \n",
    "train_features = np.stack(train_features,axis=0)\n",
    "print(train_features.shape)\n",
    "data_splits[\"train\"][\"X\"] = train_features\n",
    "\n",
    "val_features = []\n",
    "print(\"Calculatin mel spectrograms for val set\")\n",
    "for i in tqdm(range(data_splits[\"val\"][\"X\"] .shape[0])):\n",
    "    audio=data_splits[\"val\"][\"X\"][i,:]\n",
    "    val_feature=co_multi_feature(audio, sample_rate)\n",
    "    val_features.append(val_feature)\n",
    "val_features = np.stack(val_features,axis=0)\n",
    "data_splits[\"val\"][\"X\"]= val_features\n",
    "\n",
    "print(f'X_train:{data_splits[\"train\"][\"X\"].shape}, Y_train:{data_splits[\"train\"][\"Y\"].shape}')\n",
    "print(f'X_val:{data_splits[\"val\"][\"X\"].shape}, Y_val:{data_splits[\"val\"][\"Y\"].shape}')"
   ]
  },
  {
   "cell_type": "code",
   "execution_count": 67,
   "metadata": {},
   "outputs": [],
   "source": [
    "from sklearn.preprocessing import StandardScaler\n",
    "\n",
    "scaler = StandardScaler()\n",
    "\n",
    "data_splits[\"train\"][\"X\"]= scaler.fit_transform(data_splits[\"train\"][\"X\"])\n",
    "\n",
    "data_splits[\"val\"][\"X\"] = scaler.transform(data_splits[\"val\"][\"X\"])"
   ]
  },
  {
   "cell_type": "code",
   "execution_count": 68,
   "metadata": {},
   "outputs": [
    {
     "data": {
      "text/html": [
       "<style>#sk-container-id-5 {color: black;}#sk-container-id-5 pre{padding: 0;}#sk-container-id-5 div.sk-toggleable {background-color: white;}#sk-container-id-5 label.sk-toggleable__label {cursor: pointer;display: block;width: 100%;margin-bottom: 0;padding: 0.3em;box-sizing: border-box;text-align: center;}#sk-container-id-5 label.sk-toggleable__label-arrow:before {content: \"▸\";float: left;margin-right: 0.25em;color: #696969;}#sk-container-id-5 label.sk-toggleable__label-arrow:hover:before {color: black;}#sk-container-id-5 div.sk-estimator:hover label.sk-toggleable__label-arrow:before {color: black;}#sk-container-id-5 div.sk-toggleable__content {max-height: 0;max-width: 0;overflow: hidden;text-align: left;background-color: #f0f8ff;}#sk-container-id-5 div.sk-toggleable__content pre {margin: 0.2em;color: black;border-radius: 0.25em;background-color: #f0f8ff;}#sk-container-id-5 input.sk-toggleable__control:checked~div.sk-toggleable__content {max-height: 200px;max-width: 100%;overflow: auto;}#sk-container-id-5 input.sk-toggleable__control:checked~label.sk-toggleable__label-arrow:before {content: \"▾\";}#sk-container-id-5 div.sk-estimator input.sk-toggleable__control:checked~label.sk-toggleable__label {background-color: #d4ebff;}#sk-container-id-5 div.sk-label input.sk-toggleable__control:checked~label.sk-toggleable__label {background-color: #d4ebff;}#sk-container-id-5 input.sk-hidden--visually {border: 0;clip: rect(1px 1px 1px 1px);clip: rect(1px, 1px, 1px, 1px);height: 1px;margin: -1px;overflow: hidden;padding: 0;position: absolute;width: 1px;}#sk-container-id-5 div.sk-estimator {font-family: monospace;background-color: #f0f8ff;border: 1px dotted black;border-radius: 0.25em;box-sizing: border-box;margin-bottom: 0.5em;}#sk-container-id-5 div.sk-estimator:hover {background-color: #d4ebff;}#sk-container-id-5 div.sk-parallel-item::after {content: \"\";width: 100%;border-bottom: 1px solid gray;flex-grow: 1;}#sk-container-id-5 div.sk-label:hover label.sk-toggleable__label {background-color: #d4ebff;}#sk-container-id-5 div.sk-serial::before {content: \"\";position: absolute;border-left: 1px solid gray;box-sizing: border-box;top: 0;bottom: 0;left: 50%;z-index: 0;}#sk-container-id-5 div.sk-serial {display: flex;flex-direction: column;align-items: center;background-color: white;padding-right: 0.2em;padding-left: 0.2em;position: relative;}#sk-container-id-5 div.sk-item {position: relative;z-index: 1;}#sk-container-id-5 div.sk-parallel {display: flex;align-items: stretch;justify-content: center;background-color: white;position: relative;}#sk-container-id-5 div.sk-item::before, #sk-container-id-5 div.sk-parallel-item::before {content: \"\";position: absolute;border-left: 1px solid gray;box-sizing: border-box;top: 0;bottom: 0;left: 50%;z-index: -1;}#sk-container-id-5 div.sk-parallel-item {display: flex;flex-direction: column;z-index: 1;position: relative;background-color: white;}#sk-container-id-5 div.sk-parallel-item:first-child::after {align-self: flex-end;width: 50%;}#sk-container-id-5 div.sk-parallel-item:last-child::after {align-self: flex-start;width: 50%;}#sk-container-id-5 div.sk-parallel-item:only-child::after {width: 0;}#sk-container-id-5 div.sk-dashed-wrapped {border: 1px dashed gray;margin: 0 0.4em 0.5em 0.4em;box-sizing: border-box;padding-bottom: 0.4em;background-color: white;}#sk-container-id-5 div.sk-label label {font-family: monospace;font-weight: bold;display: inline-block;line-height: 1.2em;}#sk-container-id-5 div.sk-label-container {text-align: center;}#sk-container-id-5 div.sk-container {/* jupyter's `normalize.less` sets `[hidden] { display: none; }` but bootstrap.min.css set `[hidden] { display: none !important; }` so we also need the `!important` here to be able to override the default hidden behavior on the sphinx rendered scikit-learn.org. See: https://github.com/scikit-learn/scikit-learn/issues/21755 */display: inline-block !important;position: relative;}#sk-container-id-5 div.sk-text-repr-fallback {display: none;}</style><div id=\"sk-container-id-5\" class=\"sk-top-container\"><div class=\"sk-text-repr-fallback\"><pre>SVC(kernel=&#x27;linear&#x27;, random_state=42)</pre><b>In a Jupyter environment, please rerun this cell to show the HTML representation or trust the notebook. <br />On GitHub, the HTML representation is unable to render, please try loading this page with nbviewer.org.</b></div><div class=\"sk-container\" hidden><div class=\"sk-item\"><div class=\"sk-estimator sk-toggleable\"><input class=\"sk-toggleable__control sk-hidden--visually\" id=\"sk-estimator-id-5\" type=\"checkbox\" checked><label for=\"sk-estimator-id-5\" class=\"sk-toggleable__label sk-toggleable__label-arrow\">SVC</label><div class=\"sk-toggleable__content\"><pre>SVC(kernel=&#x27;linear&#x27;, random_state=42)</pre></div></div></div></div></div>"
      ],
      "text/plain": [
       "SVC(kernel='linear', random_state=42)"
      ]
     },
     "execution_count": 68,
     "metadata": {},
     "output_type": "execute_result"
    }
   ],
   "source": [
    "# 初始化分类器\n",
    "from sklearn.svm import SVC\n",
    "\n",
    "# 初始化SVM分类器，这里使用线性核\n",
    "model = SVC(kernel='linear', random_state=42)\n",
    "# 训练模型\n",
    "model.fit(data_splits[\"train\"][\"X\"], data_splits[\"train\"][\"Y\"])"
   ]
  },
  {
   "cell_type": "code",
   "execution_count": 69,
   "metadata": {},
   "outputs": [
    {
     "name": "stdout",
     "output_type": "stream",
     "text": [
      "              precision    recall  f1-score   support\n",
      "\n",
      "           0       0.50      0.06      0.11        50\n",
      "           1       0.50      0.14      0.22        50\n",
      "           2       0.28      0.96      0.43        50\n",
      "           3       0.44      0.64      0.52        50\n",
      "           4       0.72      0.26      0.38        50\n",
      "           5       0.19      0.06      0.09        50\n",
      "\n",
      "    accuracy                           0.35       300\n",
      "   macro avg       0.44      0.35      0.29       300\n",
      "weighted avg       0.44      0.35      0.29       300\n",
      "\n",
      "Accuracy: 0.35333333333333333\n"
     ]
    }
   ],
   "source": [
    "# 预测验证集\n",
    "Y_val_pred = model.predict(data_splits[\"val\"][\"X\"])\n",
    "from sklearn.metrics import classification_report, accuracy_score\n",
    "\n",
    "# 打印分类报告\n",
    "print(classification_report(data_splits[\"val\"][\"Y\"], Y_val_pred))\n",
    "\n",
    "# 打印准确率\n",
    "print(\"Accuracy:\", accuracy_score(data_splits[\"val\"][\"Y\"], Y_val_pred))"
   ]
  },
  {
   "cell_type": "code",
   "execution_count": 70,
   "metadata": {},
   "outputs": [],
   "source": [
    "from sklearn.model_selection import GridSearchCV\n",
    "\n",
    "# 定义参数网格\n",
    "param_grid = {\n",
    "    'C': [0.1, 1, 10],\n",
    "    'gamma': ['scale', 'auto'],\n",
    "    'kernel': ['linear', 'rbf', 'poly'],\n",
    "    # 添加其他超参数\n",
    "}\n",
    "\n",
    "# 初始化网格搜索\n",
    "grid_search = GridSearchCV(estimator=model, param_grid=param_grid, cv=5, scoring='accuracy')\n",
    "\n",
    "# 拟合网格搜索\n",
    "grid_search.fit(data_splits[\"train\"][\"X\"], data_splits[\"train\"][\"Y\"])\n",
    "\n",
    "# 获得最佳模型\n",
    "best_model = grid_search.best_estimator_"
   ]
  },
  {
   "cell_type": "markdown",
   "metadata": {},
   "source": [
    "## 训练集上的表现"
   ]
  },
  {
   "cell_type": "code",
   "execution_count": 71,
   "metadata": {},
   "outputs": [
    {
     "name": "stdout",
     "output_type": "stream",
     "text": [
      "              precision    recall  f1-score   support\n",
      "\n",
      "           0       0.60      0.12      0.20        50\n",
      "           1       0.78      0.14      0.24        50\n",
      "           2       0.26      0.90      0.41        50\n",
      "           3       0.50      0.70      0.58        50\n",
      "           4       0.75      0.48      0.59        50\n",
      "           5       0.12      0.02      0.03        50\n",
      "\n",
      "    accuracy                           0.39       300\n",
      "   macro avg       0.50      0.39      0.34       300\n",
      "weighted avg       0.50      0.39      0.34       300\n",
      "\n",
      "Accuracy: 0.3933333333333333\n"
     ]
    }
   ],
   "source": [
    "# 使用最佳模型进行预测\n",
    "Y_val_pred_best = best_model.predict(data_splits[\"val\"][\"X\"])\n",
    "\n",
    "from sklearn.metrics import classification_report, accuracy_score\n",
    "\n",
    "# 打印分类报告\n",
    "print(classification_report(data_splits[\"val\"][\"Y\"], Y_val_pred_best))\n",
    "\n",
    "# 打印准确率\n",
    "print(\"Accuracy:\", accuracy_score(data_splits[\"val\"][\"Y\"], Y_val_pred_best))"
   ]
  },
  {
   "cell_type": "markdown",
   "metadata": {},
   "source": [
    "## 保存模型"
   ]
  },
  {
   "cell_type": "code",
   "execution_count": null,
   "metadata": {},
   "outputs": [],
   "source": [
    "SAVE_PATH = os.path.join(os.getcwd(),'models')\n",
    "os.makedirs('models',exist_ok=True)\n",
    "torch.save(model.state_dict(),os.path.join(SAVE_PATH,'cnn_lstm_parallel_model.pt'))\n",
    "print('Model is saved to {}'.format(os.path.join(SAVE_PATH,'cnn_lstm_parallel_model.pt')))"
   ]
  },
  {
   "cell_type": "markdown",
   "metadata": {},
   "source": [
    "## 加载模型"
   ]
  },
  {
   "cell_type": "code",
   "execution_count": null,
   "metadata": {},
   "outputs": [],
   "source": [
    "LOAD_PATH = os.path.join(os.getcwd(),'models')\n",
    "model = ParallelModel(len(EMOTIONS))\n",
    "model.load_state_dict(torch.load(os.path.join(LOAD_PATH,'cnn_lstm_parallel_model.pt')))\n",
    "print('Model is loaded from {}'.format(os.path.join(LOAD_PATH,'cnn_lstm_parallel_model.pt')))"
   ]
  }
 ],
 "metadata": {
  "kernelspec": {
   "display_name": "base",
   "language": "python",
   "name": "python3"
  },
  "language_info": {
   "codemirror_mode": {
    "name": "ipython",
    "version": 3
   },
   "file_extension": ".py",
   "mimetype": "text/x-python",
   "name": "python",
   "nbconvert_exporter": "python",
   "pygments_lexer": "ipython3",
   "version": "3.11.5"
  }
 },
 "nbformat": 4,
 "nbformat_minor": 2
}
